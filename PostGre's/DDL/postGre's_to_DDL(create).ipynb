{
  "nbformat": 4,
  "nbformat_minor": 0,
  "metadata": {
    "colab": {
      "name": "postGre's to DDL.ipynb",
      "provenance": []
    },
    "kernelspec": {
      "name": "python3",
      "display_name": "Python 3"
    }
  },
  "cells": [
    {
      "cell_type": "code",
      "metadata": {
        "id": "vRZJxLzuDQ9d"
      },
      "source": [
        "import sys\n",
        "import time\n",
        "import pandas as pd\n",
        "\n",
        "boiler_plate = f\"\"\"\n",
        "/*\n",
        "Created      : {time.strftime(\"%Y-%m-%d %H:%M\")}\n",
        "Generated_by : Python\n",
        "*/\n",
        "\n",
        "\"\"\"\n",
        "\n",
        "def create_data_type(row):\n",
        "    s = row[0]\n",
        "    if \"%p1\" in s:\n",
        "        s = s.replace(\"%p1\",str(int(row[1])))\n",
        "    if \"%p2\" in s:\n",
        "        s = s.replace(\"%p2\",str(int(row[2])))\n",
        "    return s\n",
        "\n",
        "def create_sql_string(entity_name,column_name,index,data_types,nullable):\n",
        "    \n",
        "    columns_str = []\n",
        "    for name,data_type,nul in zip(column_name,data_types,nullable):\n",
        "        columns_str.append(f\"[{name}] {data_type} {'NOT NULL' if nul == 'N' else 'NULL'}\")\n",
        "    columns_str = \",\\n \".join(columns_str)\n",
        "    \n",
        "    str = f\"\"\"CREATE TABLE [IF NOT EXISTS] [{entity_name}]\n",
        "(\n",
        " {columns_str}\n",
        ");\n",
        "    \n",
        "\"\"\"\n",
        "\n",
        "    return str\n",
        "\n",
        "## Read Data\n",
        "df = pd.read_excel(\"/content/FACT_PAYMENT_postgres.xlsx\") ## File name\n"
      ],
      "execution_count": 5,
      "outputs": []
    },
    {
      "cell_type": "code",
      "metadata": {
        "id": "YjKj54LaKSDk"
      },
      "source": [
        "df[\"New Data types\"] = df[['Target data type', 'Length', 'Precision']].apply(create_data_type,axis=1)\n",
        "df.drop(['Target data type', 'Length', 'Precision'],axis=1,inplace=True)\n",
        "grouped_df = df.groupby(\"Target Table Name\").agg(list)\n"
      ],
      "execution_count": 3,
      "outputs": []
    },
    {
      "cell_type": "code",
      "metadata": {
        "id": "8RlIpZMnKU8q"
      },
      "source": [
        "\n",
        "## Saving the SQL Data\n",
        "with open(\"output.SQL\", \"w\") as f:\n",
        "    f.write(boiler_plate)\n",
        "    for index, row in grouped_df.iterrows():\n",
        "        sql_command = create_sql_string(index,\\\n",
        "                                        row[\"Target column name\"],\\\n",
        "                                        row[\"Index\"][0],\\\n",
        "                                        row[\"New Data types\"],\\\n",
        "                                        row[\"Nullable\"])\n",
        "        f.write(f\"-- Table {index} \\n\\n\")\n",
        "        f.write(sql_command)"
      ],
      "execution_count": 10,
      "outputs": []
    },
    {
      "cell_type": "code",
      "metadata": {
        "id": "U_m71KKOLMP-"
      },
      "source": [
        ""
      ],
      "execution_count": null,
      "outputs": []
    }
  ]
}